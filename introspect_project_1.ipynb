{
 "cells": [
  {
   "cell_type": "code",
   "execution_count": 1,
   "metadata": {},
   "outputs": [],
   "source": [
    "#!pip list"
   ]
  },
  {
   "cell_type": "code",
   "execution_count": 79,
   "metadata": {},
   "outputs": [],
   "source": [
    "from tabula import read_pdf\n",
    "from tabulate import tabulate\n",
    "import pandas as pd\n",
    "import numpy as np"
   ]
  },
  {
   "cell_type": "code",
   "execution_count": 80,
   "metadata": {},
   "outputs": [],
   "source": [
    "# [top,left,bottom,width]\n",
    "area= [109,25.64,516,492.14]"
   ]
  },
  {
   "cell_type": "code",
   "execution_count": 81,
   "metadata": {},
   "outputs": [
    {
     "name": "stdin",
     "output_type": "stream",
     "text": [
      "What's your PDF's URL? \n",
      "\n",
      "URL of the Tadawul PDF: https://www.saudiexchange.sa/wps/wcm/connect/b8ea220d-77bf-42b8-9622-fc51eb72169a/Weekly+Trading+and+Ownership+By+Nationality+Report+06-01-2022.pdf?MOD=AJPERES&CONVERT_TO=url&CACHEID=ROOTWORKSPACE-b8ea220d-77bf-42b8-9622-fc51eb72169a-nU-ScDt\n"
     ]
    }
   ],
   "source": [
    "pdf_path_input= input(\"What's your PDF's URL? \\n\\nURL of the Tadawul PDF:\")"
   ]
  },
  {
   "cell_type": "code",
   "execution_count": 82,
   "metadata": {},
   "outputs": [],
   "source": [
    "pdf_date= pdf_path_input.rsplit('.pdf', 1)[0][-10:]"
   ]
  },
  {
   "cell_type": "code",
   "execution_count": 83,
   "metadata": {},
   "outputs": [],
   "source": [
    "#pdf_path_input= \"https://www.saudiexchange.sa/wps/wcm/connect/b8ea220d-77bf-42b8-9622-fc51eb72169a/Weekly+Trading+and+Ownership+By+Nationality+Report+06-01-2022.pdf?MOD=AJPERES&CONVERT_TO=url&CACHEID=ROOTWORKSPACE-b8ea220d-77bf-42b8-9622-fc51eb72169a-nU-ScDt\"\n",
    "\n",
    "page_5 = read_pdf(pdf_path_input, pages= [5], area= area, stream=True)"
   ]
  },
  {
   "cell_type": "code",
   "execution_count": 84,
   "metadata": {},
   "outputs": [],
   "source": [
    "value_nationality_investor_type= page_5[0]"
   ]
  },
  {
   "cell_type": "code",
   "execution_count": 85,
   "metadata": {},
   "outputs": [],
   "source": [
    "value_nationality_investor_type_idx = np.r_[1, 3:5, 6:8]"
   ]
  },
  {
   "cell_type": "code",
   "execution_count": 86,
   "metadata": {},
   "outputs": [],
   "source": [
    "value_nationality_investor_type.drop(value_nationality_investor_type.columns[value_nationality_investor_type_idx], axis=1, inplace=True)"
   ]
  },
  {
   "cell_type": "code",
   "execution_count": 87,
   "metadata": {},
   "outputs": [],
   "source": [
    "value_nationality_investor_type.rename(columns={ value_nationality_investor_type.columns[0]: \"investor_type\", value_nationality_investor_type.columns[1]: \"buy_sar\", value_nationality_investor_type.columns[2]: \"sell_sar\"}, inplace = True)\n",
    "\n",
    "value_nationality_investor_type = value_nationality_investor_type.iloc[3:]"
   ]
  },
  {
   "cell_type": "code",
   "execution_count": 88,
   "metadata": {},
   "outputs": [],
   "source": [
    "value_nationality_investor_type= value_nationality_investor_type.reset_index(drop=True)"
   ]
  },
  {
   "cell_type": "markdown",
   "metadata": {},
   "source": [
    "# Next: add columns, clean dataframe, and calculate the rest of the columns"
   ]
  },
  {
   "cell_type": "code",
   "execution_count": 89,
   "metadata": {},
   "outputs": [],
   "source": [
    "wrong_indexes= [4, 5, 10, 11, 14, 16, 20, 23, 24]\n",
    "\n",
    "value_nationality_investor_type.drop(wrong_indexes, inplace=True)\n",
    "\n",
    "value_nationality_investor_type= value_nationality_investor_type.reset_index(drop=True)"
   ]
  },
  {
   "cell_type": "code",
   "execution_count": 90,
   "metadata": {},
   "outputs": [],
   "source": [
    "value_nationality_investor_type['Nationality'] = 0\n",
    "Saudi = list(range(0, 8))\n",
    "GCC = list(range(8, 11))\n",
    "Foreign = list(range(11, 16))\n",
    "value_nationality_investor_type.loc[Saudi, 'Nationality'] = 'Saudi'\n",
    "value_nationality_investor_type.loc[GCC, 'Nationality'] = 'GCC'\n",
    "value_nationality_investor_type.loc[Foreign, 'Nationality'] = 'Foreign'"
   ]
  },
  {
   "cell_type": "code",
   "execution_count": 91,
   "metadata": {},
   "outputs": [],
   "source": [
    "cols = value_nationality_investor_type.columns.tolist()"
   ]
  },
  {
   "cell_type": "code",
   "execution_count": 92,
   "metadata": {},
   "outputs": [],
   "source": [
    "cols = cols[-1:] + cols[:-1]"
   ]
  },
  {
   "cell_type": "code",
   "execution_count": 93,
   "metadata": {},
   "outputs": [],
   "source": [
    "value_nationality_investor_type = value_nationality_investor_type[cols]"
   ]
  },
  {
   "cell_type": "code",
   "execution_count": 94,
   "metadata": {},
   "outputs": [],
   "source": [
    "value_nationality_investor_type['buy_sar'] = value_nationality_investor_type['buy_sar'].str.replace(r',', '')\n",
    "\n",
    "value_nationality_investor_type['sell_sar'] = value_nationality_investor_type['sell_sar'].str.replace(r',', '')\n",
    "\n",
    "value_nationality_investor_type.fillna(0, inplace=True)"
   ]
  },
  {
   "cell_type": "code",
   "execution_count": 95,
   "metadata": {},
   "outputs": [],
   "source": [
    "value_nationality_investor_type[\"buy_sar\"] = value_nationality_investor_type[\"buy_sar\"].astype('int64')\n",
    "\n",
    "value_nationality_investor_type[\"sell_sar\"] = value_nationality_investor_type[\"sell_sar\"].astype('int64')"
   ]
  },
  {
   "cell_type": "code",
   "execution_count": 96,
   "metadata": {},
   "outputs": [],
   "source": [
    "#value_nationality_investor_type.info()"
   ]
  },
  {
   "cell_type": "code",
   "execution_count": 97,
   "metadata": {},
   "outputs": [],
   "source": [
    "total_nationality_investor_buys= value_nationality_investor_type['buy_sar'].sum()\n",
    "\n",
    "total_nationality_investor_sells= value_nationality_investor_type['sell_sar'].sum()"
   ]
  },
  {
   "cell_type": "code",
   "execution_count": 98,
   "metadata": {},
   "outputs": [],
   "source": [
    "value_nationality_investor_type['percentage_of_total_buys']= value_nationality_investor_type['buy_sar']/total_nationality_investor_buys\n",
    "\n",
    "value_nationality_investor_type['percentage_of_total_sells']= value_nationality_investor_type['sell_sar']/total_nationality_investor_sells"
   ]
  },
  {
   "cell_type": "code",
   "execution_count": 99,
   "metadata": {},
   "outputs": [],
   "source": [
    "value_nationality_investor_type['percentage_of_total_buys'] = pd.Series([\"{0:.2f}%\".format(val * 100) for val in value_nationality_investor_type['percentage_of_total_buys']], index = value_nationality_investor_type.index)\n",
    "\n",
    "value_nationality_investor_type['percentage_of_total_sells'] = pd.Series([\"{0:.2f}%\".format(val * 100) for val in value_nationality_investor_type['percentage_of_total_sells']], index = value_nationality_investor_type.index)"
   ]
  },
  {
   "cell_type": "code",
   "execution_count": 100,
   "metadata": {},
   "outputs": [],
   "source": [
    "value_nationality_investor_cols= ['Nationality', 'investor_type', 'buy_sar', 'percentage_of_total_buys', 'sell_sar', 'percentage_of_total_sells']\n",
    "\n",
    "value_nationality_investor_type = value_nationality_investor_type[value_nationality_investor_cols]"
   ]
  },
  {
   "cell_type": "code",
   "execution_count": 101,
   "metadata": {},
   "outputs": [],
   "source": [
    "value_nationality_investor_type = value_nationality_investor_type.rename(columns={'investor_type': 'Investor Type', 'buy_sar': 'Buy Sar', 'percentage_of_total_buys': 'Percentage of Total Buys', 'sell_sar': 'Sell Sar', 'percentage_of_total_sells': 'Percentage of Total Sells'})"
   ]
  },
  {
   "cell_type": "code",
   "execution_count": 102,
   "metadata": {},
   "outputs": [],
   "source": [
    "page_6 = read_pdf(pdf_path_input, pages= [6], area= area, stream=True)"
   ]
  },
  {
   "cell_type": "code",
   "execution_count": 103,
   "metadata": {},
   "outputs": [],
   "source": [
    "value_investor_classification= page_6[0]"
   ]
  },
  {
   "cell_type": "code",
   "execution_count": 104,
   "metadata": {},
   "outputs": [],
   "source": [
    "value_investor_classification_idx = np.r_[2, 4, 5]\n",
    "\n",
    "value_investor_classification.drop(value_investor_classification.columns[value_investor_classification_idx], axis=1, inplace=True)\n",
    "\n",
    "value_investor_classification.columns = ['investor_classification', 'buy_sar', 'sell_sar']"
   ]
  },
  {
   "cell_type": "code",
   "execution_count": 105,
   "metadata": {},
   "outputs": [],
   "source": [
    "value_investor_classification= value_investor_classification.iloc[2:4]"
   ]
  },
  {
   "cell_type": "code",
   "execution_count": 106,
   "metadata": {},
   "outputs": [
    {
     "data": {
      "text/html": [
       "<div>\n",
       "<style scoped>\n",
       "    .dataframe tbody tr th:only-of-type {\n",
       "        vertical-align: middle;\n",
       "    }\n",
       "\n",
       "    .dataframe tbody tr th {\n",
       "        vertical-align: top;\n",
       "    }\n",
       "\n",
       "    .dataframe thead th {\n",
       "        text-align: right;\n",
       "    }\n",
       "</style>\n",
       "<table border=\"1\" class=\"dataframe\">\n",
       "  <thead>\n",
       "    <tr style=\"text-align: right;\">\n",
       "      <th></th>\n",
       "      <th>investor_classification</th>\n",
       "      <th>buy_sar</th>\n",
       "      <th>sell_sar</th>\n",
       "    </tr>\n",
       "  </thead>\n",
       "  <tbody>\n",
       "    <tr>\n",
       "      <th>2</th>\n",
       "      <td>Institutional</td>\n",
       "      <td>5,937,303,067</td>\n",
       "      <td>4,686,847,708</td>\n",
       "    </tr>\n",
       "    <tr>\n",
       "      <th>3</th>\n",
       "      <td>Non-Institutional</td>\n",
       "      <td>21,144,724,615</td>\n",
       "      <td>22,395,179,974</td>\n",
       "    </tr>\n",
       "  </tbody>\n",
       "</table>\n",
       "</div>"
      ],
      "text/plain": [
       "  investor_classification         buy_sar        sell_sar\n",
       "2           Institutional   5,937,303,067   4,686,847,708\n",
       "3       Non-Institutional  21,144,724,615  22,395,179,974"
      ]
     },
     "execution_count": 106,
     "metadata": {},
     "output_type": "execute_result"
    }
   ],
   "source": [
    "value_investor_classification"
   ]
  },
  {
   "cell_type": "code",
   "execution_count": 107,
   "metadata": {},
   "outputs": [],
   "source": [
    "value_investor_classification = value_investor_classification.replace(',','', regex=True)"
   ]
  },
  {
   "cell_type": "code",
   "execution_count": 108,
   "metadata": {},
   "outputs": [],
   "source": [
    "value_investor_classification.fillna(0, inplace=True)"
   ]
  },
  {
   "cell_type": "code",
   "execution_count": 109,
   "metadata": {},
   "outputs": [],
   "source": [
    "value_investor_classification.loc[:,\"buy_sar\"] = value_investor_classification[\"buy_sar\"].astype('int64')\n",
    "\n",
    "value_investor_classification.loc[:,\"sell_sar\"] = value_investor_classification[\"sell_sar\"].astype('int64')"
   ]
  },
  {
   "cell_type": "code",
   "execution_count": 110,
   "metadata": {},
   "outputs": [],
   "source": [
    "total_investor_classification_buys= value_investor_classification['buy_sar'].sum()\n",
    "\n",
    "total_investor_classification_sells= value_investor_classification['sell_sar'].sum()"
   ]
  },
  {
   "cell_type": "code",
   "execution_count": 111,
   "metadata": {},
   "outputs": [],
   "source": [
    "value_investor_classification.loc[:,'percentage_of_total_buys']= value_investor_classification['buy_sar']/total_investor_classification_buys\n",
    "\n",
    "value_investor_classification.loc[:,'percentage_of_total_sells']= value_investor_classification['sell_sar']/total_investor_classification_sells"
   ]
  },
  {
   "cell_type": "code",
   "execution_count": 112,
   "metadata": {},
   "outputs": [],
   "source": [
    "value_investor_classification.loc[:,'percentage_of_total_buys'] = pd.Series([\"{0:.2f}%\".format(val * 100) for val in value_investor_classification['percentage_of_total_buys']], index = value_investor_classification.index)\n",
    "\n",
    "value_investor_classification.loc[:,'percentage_of_total_sells'] = pd.Series([\"{0:.2f}%\".format(val * 100) for val in value_investor_classification['percentage_of_total_sells']], index = value_investor_classification.index)"
   ]
  },
  {
   "cell_type": "code",
   "execution_count": 113,
   "metadata": {},
   "outputs": [],
   "source": [
    "investor_classification_cols= ['investor_classification', 'buy_sar', 'percentage_of_total_buys', 'sell_sar', 'percentage_of_total_sells']\n",
    "\n",
    "value_investor_classification = value_investor_classification[investor_classification_cols]"
   ]
  },
  {
   "cell_type": "code",
   "execution_count": 114,
   "metadata": {},
   "outputs": [],
   "source": [
    "value_investor_classification = value_investor_classification.rename(columns={'investor_classification': 'Investor Classification', 'buy_sar': 'Buy Sar', 'percentage_of_total_buys': 'Percentage of Total Buys', 'sell_sar': 'Sell Sar', 'percentage_of_total_sells': 'Percentage of Total Sells'})"
   ]
  },
  {
   "cell_type": "code",
   "execution_count": 115,
   "metadata": {},
   "outputs": [],
   "source": [
    "value_investor_classification = value_investor_classification.reset_index(drop=True)"
   ]
  },
  {
   "cell_type": "code",
   "execution_count": 116,
   "metadata": {},
   "outputs": [],
   "source": [
    "value_nationality_investor_type.to_csv(('Value Traded by Nationality and Investor Type ' + pdf_date + ' .csv'), index=False)"
   ]
  },
  {
   "cell_type": "code",
   "execution_count": 117,
   "metadata": {},
   "outputs": [],
   "source": [
    "value_investor_classification.to_csv(('Value Traded by Investor Classification ' + pdf_date + ' .csv'), index=False)"
   ]
  },
  {
   "cell_type": "code",
   "execution_count": 118,
   "metadata": {},
   "outputs": [
    {
     "name": "stdout",
     "output_type": "stream",
     "text": [
      "Success!\n",
      "\n",
      "Your Tadawul data has been extracted.\n"
     ]
    }
   ],
   "source": [
    "print('Success!\\n\\nYour Tadawul data has been extracted.')"
   ]
  }
 ],
 "metadata": {
  "kernelspec": {
   "display_name": "project_1_env",
   "language": "python",
   "name": "project_1_env"
  },
  "language_info": {
   "codemirror_mode": {
    "name": "ipython",
    "version": 3
   },
   "file_extension": ".py",
   "mimetype": "text/x-python",
   "name": "python",
   "nbconvert_exporter": "python",
   "pygments_lexer": "ipython3",
   "version": "3.6.15"
  }
 },
 "nbformat": 4,
 "nbformat_minor": 4
}
